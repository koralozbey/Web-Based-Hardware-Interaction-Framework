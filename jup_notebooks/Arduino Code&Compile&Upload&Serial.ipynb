{
 "cells": [
  {
   "cell_type": "markdown",
   "metadata": {
    "deletable": false,
    "editable": false,
    "hideCode": false
   },
   "source": [
    "# Run below \"Empty\" cell to create working directory and give file name."
   ]
  },
  {
   "cell_type": "code",
   "execution_count": null,
   "metadata": {
    "deletable": false,
    "editable": false,
    "hideCode": true,
    "hidePrompt": false
   },
   "outputs": [],
   "source": [
    "file_name = input(\"Enter sketch name:\")\n",
    "\n",
    "%cd /home/setup1\n",
    "%mkdir $file_name\n",
    "%cd $file_name\n",
    "file_name = file_name + '.ino'"
   ]
  },
  {
   "cell_type": "markdown",
   "metadata": {
    "deletable": false,
    "editable": false
   },
   "source": [
    "# Run below cell to save your arduino sketch. Do not change first line!"
   ]
  },
  {
   "cell_type": "code",
   "execution_count": null,
   "metadata": {
    "scrolled": true
   },
   "outputs": [],
   "source": [
    "%%writefile $file_name\n",
    "\n",
    "String user_input0 = \"\";\n",
    "int user_input1 = 0;\n",
    "int analog_input = 0;\n",
    "\n",
    "void setup() {\n",
    "  // put your setup code here, to run once:\n",
    "  pinMode(3, OUTPUT);\n",
    "  pinMode(4, OUTPUT);\n",
    "  pinMode(5, OUTPUT);\n",
    "  pinMode(A1, INPUT);\n",
    "  Serial.begin(9600);\n",
    "  delay(100);\n",
    "  Serial.println(\"Welcome\");\n",
    "  delay(100);\n",
    "  Serial.println(\"Jupyter was here!\");\n",
    "  delay(100);\n",
    "  Serial.println(\"Type 11, 21 and 31 to turn on LED_1, LED_2 and LED_3, respectively.\");\n",
    "  delay(100);\n",
    "  Serial.println(\"Type 10, 20 and 30 to turn off LED_1, LED_2 and LED_3, respectively.\");\n",
    "  Serial.setTimeout(20);\n",
    "}\n",
    "\n",
    "void loop() {\n",
    "  //analog_input = analogRead(A1);\n",
    "  //Serial.println(analog_input);\n",
    "\n",
    " if(Serial.available()>0){\n",
    "  user_input0 = Serial.readString();\n",
    "  user_input1 = user_input0.toInt();\n",
    "  if(user_input1 == 11){\n",
    "    digitalWrite(3, HIGH);\n",
    "    Serial.println(\"LED_1 is on!\");\n",
    "  }\n",
    "    if(user_input1 == 10){\n",
    "    digitalWrite(3, LOW);\n",
    "    Serial.println(\"LED_1 is off!\");\n",
    "  }\n",
    "    if(user_input1 == 21){\n",
    "    digitalWrite(4, HIGH);\n",
    "    Serial.println(\"LED_2 is on!\");\n",
    "  }\n",
    "    if(user_input1 == 20){\n",
    "    digitalWrite(4, LOW);\n",
    "    Serial.println(\"LED_2 is off!\");\n",
    "  }\n",
    "    if(user_input1 == 31){\n",
    "    digitalWrite(5, HIGH);\n",
    "    Serial.println(\"LED_3 is on!\");\n",
    "  }\n",
    "    if(user_input1 == 30){\n",
    "    digitalWrite(5, LOW);\n",
    "    Serial.println(\"LED_3 is off!\");\n",
    "  }\n",
    " }\n",
    "}"
   ]
  },
  {
   "cell_type": "markdown",
   "metadata": {
    "deletable": false,
    "editable": false,
    "hideCode": false
   },
   "source": [
    "# Run below \"Empty\" cell to compile your code."
   ]
  },
  {
   "cell_type": "code",
   "execution_count": null,
   "metadata": {
    "deletable": false,
    "editable": false,
    "hideCode": true,
    "scrolled": true
   },
   "outputs": [],
   "source": [
    "import subprocess\n",
    "file_name = input(\"Enter your sketch name (e.g. ard_test.ino Enter:ard_test):\")\n",
    "print(\"Wait a while please.\")\n",
    "try:\n",
    "    output = subprocess.check_output(['arduino', '--verify', '/home/setup1/{0}/{0}.ino'.format(file_name)],stderr=subprocess.STDOUT)\n",
    "    status = 'No error!'\n",
    "except subprocess.CalledProcessError as e:\n",
    "    output = e.output\n",
    "    status = 'Error occured!'\n",
    "output = output.decode().split('\\n')\n",
    "for i in output:\n",
    "    print(i)\n",
    "print(\"Done! \" + status)"
   ]
  },
  {
   "cell_type": "markdown",
   "metadata": {
    "deletable": false,
    "editable": false
   },
   "source": [
    "# Run below \"Empty\" cell to upload your code to Arduino Board."
   ]
  },
  {
   "cell_type": "code",
   "execution_count": null,
   "metadata": {
    "deletable": false,
    "editable": false,
    "hideCode": true,
    "scrolled": true
   },
   "outputs": [],
   "source": [
    "import glob\n",
    "import serial\n",
    "import subprocess\n",
    "\n",
    "def find_ports(res):\n",
    "    ports = glob.glob('/dev/ttyACM[0-9]*')\n",
    "\n",
    "    for port in ports:\n",
    "        try:\n",
    "            s = serial.Serial(port)\n",
    "            s.close()\n",
    "            res.append(port)\n",
    "        except:\n",
    "            pass\n",
    "    return res\n",
    "\n",
    "usb_ports = []\n",
    "find_ports(usb_ports)\n",
    "\n",
    "if len(usb_ports) ==  1:\n",
    "    file_name = input(\"Enter your sketch name (e.g. ard_test.ino Enter:ard_test):\")\n",
    "    print(\"Wait a while please.\")\n",
    "    try:\n",
    "        output = subprocess.check_output(['arduino', '--upload', '/home/setup1/{0}/{0}.ino'.format(file_name),'--port','{}'.format(usb_ports[0])],stderr=subprocess.STDOUT)\n",
    "        status = 'No error!'\n",
    "    except subprocess.CalledProcessError as e:\n",
    "        output = e.output\n",
    "        status = 'Error occured!'\n",
    "    output = output.decode().split('\\n')\n",
    "    for i in output:\n",
    "        print(i)\n",
    "        \n",
    "elif len(usb_ports) >  1:\n",
    "    print(\"Error: Many usb ports found!\")\n",
    "    \n",
    "elif len(usb_ports) == 0:\n",
    "    print(\"Error: No usb ports found!\")\n",
    "    \n",
    "else:\n",
    "    print(\"Error: Undefined Error!\")\n",
    "print(\"Done!\"  + status)"
   ]
  },
  {
   "cell_type": "markdown",
   "metadata": {
    "deletable": false,
    "editable": false
   },
   "source": [
    "# Run below \"Empty\" cell to start serial communication with Arduino."
   ]
  },
  {
   "cell_type": "code",
   "execution_count": null,
   "metadata": {
    "deletable": false,
    "editable": false,
    "hideCode": true,
    "hidePrompt": false
   },
   "outputs": [],
   "source": [
    "import time\n",
    "import glob\n",
    "import serial\n",
    "import threading\n",
    "\n",
    "def find_ports(res):\n",
    "    ports = glob.glob('/dev/ttyACM[0-9]*')\n",
    "\n",
    "    for port in ports:\n",
    "        try:\n",
    "            s = serial.Serial(port)\n",
    "            s.close()\n",
    "            res.append(port)\n",
    "        except:\n",
    "            pass\n",
    "    return res\n",
    "\n",
    "def inputtaker():\n",
    "    while True:\n",
    "        inpt = input()\n",
    "        arduino.write(inpt.encode())\n",
    "        \n",
    "def getLastest():\n",
    "    status = None\n",
    "    while arduino.inWaiting() > 0:\n",
    "        status = arduino.readline()\n",
    "    #arduino.flushInput()\n",
    "    return status\n",
    "\n",
    "usb_ports = []\n",
    "find_ports(usb_ports)\n",
    "\n",
    "if len(usb_ports) ==  1:\n",
    "    arduino = serial.Serial(port = usb_ports[0], baudrate = 9600, timeout = 0.01)\n",
    "\n",
    "    if arduino.is_open == True:\n",
    "        print(\"Arduino is open.\")\n",
    "\n",
    "    t = threading.Thread(target=inputtaker)\n",
    "    t.start()\n",
    "\n",
    "    while True:\n",
    "        #time.sleep(0.1)\n",
    "        data = getLastest()\n",
    "        if data:\n",
    "            incoming_data = data.strip().decode(errors='ignore')\n",
    "            print(incoming_data)\n",
    "\n",
    "elif len(usb_ports) >  1:\n",
    "    print(\"Error: Many usb ports found!\")\n",
    "    \n",
    "elif len(usb_ports) == 0:\n",
    "    print(\"Error: No usb ports found!\")\n",
    "    \n",
    "else:\n",
    "    print(\"Error: Undefined Error!\")"
   ]
  },
  {
   "cell_type": "markdown",
   "metadata": {
    "deletable": false,
    "editable": false
   },
   "source": [
    "# "
   ]
  }
 ],
 "metadata": {
  "kernelspec": {
   "display_name": "Python 3",
   "language": "python",
   "name": "python3"
  },
  "language_info": {
   "codemirror_mode": {
    "name": "ipython",
    "version": 3
   },
   "file_extension": ".py",
   "mimetype": "text/x-python",
   "name": "python",
   "nbconvert_exporter": "python",
   "pygments_lexer": "ipython3",
   "version": "3.6.9"
  }
 },
 "nbformat": 4,
 "nbformat_minor": 4
}
